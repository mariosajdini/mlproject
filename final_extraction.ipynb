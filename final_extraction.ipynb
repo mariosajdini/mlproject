{
 "cells": [
  {
   "cell_type": "code",
   "outputs": [],
   "source": [
    "import re"
   ],
   "metadata": {
    "collapsed": false,
    "ExecuteTime": {
     "end_time": "2024-02-11T11:57:26.592640Z",
     "start_time": "2024-02-11T11:57:26.590268Z"
    }
   },
   "id": "914ac9af78c18a57",
   "execution_count": 323
  },
  {
   "cell_type": "code",
   "execution_count": 324,
   "id": "initial_id",
   "metadata": {
    "collapsed": true,
    "ExecuteTime": {
     "end_time": "2024-02-11T11:57:26.607334Z",
     "start_time": "2024-02-11T11:57:26.595186Z"
    }
   },
   "outputs": [],
   "source": [
    "with open('pg10681.txt', 'r', encoding='utf-8') as file:\n",
    "    file_content = file.read()"
   ]
  },
  {
   "cell_type": "code",
   "outputs": [],
   "source": [
    "import re\n",
    "\n",
    "def extract_classes_with_text(text):\n",
    "    class_pattern = r'(CLASS\\s+[IVXLCDM]+\\n[^\\n]+)'  # Pattern to match class titles\n",
    "    end_marker = \"End of thesaurus\"  # Define the end marker\n",
    "    \n",
    "    # Find all class titles and their positions\n",
    "    classes = [(match.group(), match.end()) for match in re.finditer(class_pattern, text)]\n",
    "    \n",
    "    # Add an artificial end marker for the last class to simplify logic\n",
    "    if re.search(end_marker, text):\n",
    "        classes.append((\"END\", re.search(end_marker, text).start()))\n",
    "    else:\n",
    "        classes.append((\"END\", len(text)))\n",
    "    \n",
    "    class_dict = {}\n",
    "    # Iterate through classes to assign text to each class\n",
    "    for i in range(len(classes) - 1):\n",
    "        class_title = classes[i][0].strip()\n",
    "        start_index = classes[i][1]\n",
    "        end_index = classes[i + 1][1]\n",
    "        # Extract text for the current class\n",
    "        class_text = text[start_index:end_index].strip()\n",
    "        class_dict[class_title] = class_text\n",
    "    \n",
    "    return class_dict\n",
    "\n"
   ],
   "metadata": {
    "collapsed": false,
    "ExecuteTime": {
     "end_time": "2024-02-11T11:57:26.607554Z",
     "start_time": "2024-02-11T11:57:26.601977Z"
    }
   },
   "id": "42fc35ddb50ab908",
   "execution_count": 325
  },
  {
   "cell_type": "code",
   "outputs": [],
   "source": [
    "def remove_newlines_from_dict_keys(input_dict):\n",
    "    modified_dict = {key.replace('\\n', ': '): value for key, value in input_dict.items()}\n",
    "    return modified_dict\n"
   ],
   "metadata": {
    "collapsed": false,
    "ExecuteTime": {
     "end_time": "2024-02-11T11:57:26.607872Z",
     "start_time": "2024-02-11T11:57:26.603945Z"
    }
   },
   "id": "d4d851c9671cf12d",
   "execution_count": 326
  },
  {
   "cell_type": "code",
   "outputs": [],
   "source": [
    "def extract_divisions(class_dict):\n",
    "    division_pattern = r\"DIVISION\\s(?:I|V|X|L|C|D|M)+\\n[A-Z\\s]+\\n\"  # Regex pattern for division titles\n",
    "\n",
    "    for class_title, class_text in class_dict.items():\n",
    "        # Find all division titles and their positions\n",
    "        divisions = [(match.group().strip(), match.end()) for match in re.finditer(division_pattern, class_text)]\n",
    "        \n",
    "        # Handle case with no divisions\n",
    "        if not divisions:\n",
    "            class_dict[class_title] = {\"NO_DIVISION\": class_text}\n",
    "            continue\n",
    "\n",
    "        # Add an artificial end marker for the last division to simplify logic\n",
    "        divisions.append((\"END\", len(class_text)))\n",
    "\n",
    "        division_dict = {}\n",
    "        # Iterate through divisions to assign text to each division\n",
    "        for i in range(len(divisions) - 1):\n",
    "            division_title = divisions[i][0].strip()\n",
    "            start_index = divisions[i][1]\n",
    "            end_index = divisions[i + 1][1]\n",
    "            # Extract text for the current division\n",
    "            division_text = class_text[start_index:end_index].strip()\n",
    "            division_dict[division_title] = division_text\n",
    "\n",
    "        # Update the class in the dictionary with its divisions\n",
    "        class_dict[class_title] = division_dict\n",
    "\n",
    "    return class_dict\n"
   ],
   "metadata": {
    "collapsed": false,
    "ExecuteTime": {
     "end_time": "2024-02-11T11:57:26.610040Z",
     "start_time": "2024-02-11T11:57:26.608096Z"
    }
   },
   "id": "230818fae16975d6",
   "execution_count": 327
  },
  {
   "cell_type": "code",
   "outputs": [],
   "source": [
    "import re\n",
    "\n",
    "def refine_section_extraction(class_dict):\n",
    "    # Pattern to match section identifiers and optional descriptive titles\n",
    "    full_section_pattern = r'(SECTION\\s+[IVXLCDM]+\\.)\\s*([^\\n]*)'\n",
    "    \n",
    "    for class_title, divisions in class_dict.items():\n",
    "        for division_title, division_text in divisions.items():\n",
    "            # Temporary dictionary to store sections for the current division\n",
    "            temp_section_dict = {}\n",
    "            \n",
    "            # Find all matches for the full section pattern\n",
    "            matches = list(re.finditer(full_section_pattern, division_text))\n",
    "            \n",
    "            for i, match in enumerate(matches):\n",
    "                # Determine the start of the next match or use the end of the division text if at the last match\n",
    "                end_index = matches[i + 1].start() if i + 1 < len(matches) else len(division_text)\n",
    "                \n",
    "                # Extract the full section title, combining the identifier and the optional descriptive title\n",
    "                full_section_title = match.group(1) + (' ' + match.group(2).strip() if match.group(2).strip() else '')\n",
    "                # Extract the text for this section\n",
    "                section_text = division_text[match.end():end_index].strip()\n",
    "                \n",
    "                temp_section_dict[full_section_title] = section_text\n",
    "            \n",
    "            # If no sections were found, use a placeholder\n",
    "            if not temp_section_dict:\n",
    "                temp_section_dict[\"NO_SECTION\"] = division_text\n",
    "            \n",
    "            # Update the division entry with its sections\n",
    "            divisions[division_title] = temp_section_dict\n",
    "\n",
    "    return class_dict\n"
   ],
   "metadata": {
    "collapsed": false,
    "ExecuteTime": {
     "end_time": "2024-02-11T11:57:26.616600Z",
     "start_time": "2024-02-11T11:57:26.611228Z"
    }
   },
   "id": "8d7ca1debc247711",
   "execution_count": 328
  },
  {
   "cell_type": "code",
   "outputs": [],
   "source": [
    "import re\n",
    "\n",
    "def process_sections_with_no_title_key(class_dict):\n",
    "    # Adjusted pattern for subsection titles within the section text\n",
    "    adjusted_pattern_for_subsections = r'^\\d\\.\\s?([A-Z]+([,\\s]+[A-Z]+)*([,\\s]+[a-z]+)*)*$'\n",
    "\n",
    "    for class_title, divisions in class_dict.items():\n",
    "        for division_title, sections in divisions.items():\n",
    "            updated_sections = {}\n",
    "            for section_title, section_text in sections.items():\n",
    "                # Attempt to capture the full section title and text excluding this title\n",
    "                full_title_search = re.search(r'(SECTION\\s+[IVXLCDM]+\\.)\\s*([^\\n]+)', section_text)\n",
    "                if full_title_search:\n",
    "                    full_section_title = full_title_search.group(1) + \" \" + full_title_search.group(2).strip()\n",
    "                    section_text_without_title = section_text[len(full_section_title):].strip()\n",
    "                else:\n",
    "                    full_section_title = section_title  # Use section identifier if no full title is present\n",
    "                    section_text_without_title = section_text\n",
    "\n",
    "                # Find titles within the section text\n",
    "                titles_matches = list(re.finditer(adjusted_pattern_for_subsections, section_text_without_title, re.MULTILINE))\n",
    "                if titles_matches:\n",
    "                    title_dict = {}\n",
    "                    for k in range(len(titles_matches)):\n",
    "                        title = titles_matches[k].group(0).strip()\n",
    "                        title_start_index = titles_matches[k].end()\n",
    "                        # Determine the end index for the current title's text\n",
    "                        title_end_index = titles_matches[k + 1].start() if k + 1 < len(titles_matches) else len(section_text_without_title)\n",
    "                        # Extract the text associated with the current title\n",
    "                        subsection_text = section_text_without_title[title_start_index:title_end_index].strip()\n",
    "                        title_dict[title] = subsection_text\n",
    "\n",
    "                    updated_sections[full_section_title] = title_dict\n",
    "                else:\n",
    "                    # If no titles found, assign the entire section text to \"NO_TITLE\" key\n",
    "                    updated_sections[full_section_title] = {\"NO_TITLE\": section_text_without_title}\n",
    "\n",
    "            divisions[division_title] = updated_sections  # Update division with processed sections\n",
    "\n",
    "    return class_dict"
   ],
   "metadata": {
    "collapsed": false,
    "ExecuteTime": {
     "end_time": "2024-02-11T11:57:26.617145Z",
     "start_time": "2024-02-11T11:57:26.615581Z"
    }
   },
   "id": "6e1f1a3947de8059",
   "execution_count": 329
  },
  {
   "cell_type": "code",
   "outputs": [],
   "source": [
    "import re\n",
    "\n",
    "def transform_title_values(class_dict):\n",
    "    for class_title, divisions in class_dict.items():\n",
    "        for division_title, sections in divisions.items():\n",
    "            for section_title, section in sections.items():\n",
    "                for title, text in section.items():\n",
    "                    # Determine if the text starts with a number\n",
    "                    if not text.strip().startswith(tuple('0123456789')):\n",
    "                        lines = text.splitlines()\n",
    "                        remaining_lines = lines[2:]  # Skip the first two lines\n",
    "                        text = '\\n'.join(remaining_lines)  # Rejoin the remaining lines\n",
    "                    \n",
    "                    # Define the section pattern for splitting the text\n",
    "                    section_pattern = r'(?=\\n\\d+[a-z]?\\. )'\n",
    "                    # Split the text into sections\n",
    "                    sections = re.split(section_pattern, text)\n",
    "                    \n",
    "                    # Update the text for the title with the processed sections\n",
    "                    section[title] = sections\n",
    "\n",
    "    return class_dict\n"
   ],
   "metadata": {
    "collapsed": false,
    "ExecuteTime": {
     "end_time": "2024-02-11T12:03:05.402139Z",
     "start_time": "2024-02-11T12:03:05.395342Z"
    }
   },
   "id": "6a89e163ea12b452",
   "execution_count": 337
  },
  {
   "cell_type": "code",
   "outputs": [],
   "source": [
    "import json \n",
    "def write_data_to_json_file(data, filename):\n",
    "    with open(filename, 'w', encoding='utf-8') as file:\n",
    "        json.dump(data, file, ensure_ascii=False, indent=4)\n"
   ],
   "metadata": {
    "collapsed": false,
    "ExecuteTime": {
     "end_time": "2024-02-11T11:57:26.621669Z",
     "start_time": "2024-02-11T11:57:26.619603Z"
    }
   },
   "id": "76c16fe72deaf92e",
   "execution_count": 330
  },
  {
   "cell_type": "code",
   "outputs": [],
   "source": [
    "classes = extract_classes_with_text(file_content)\n",
    "classes = remove_newlines_from_dict_keys(classes)\n",
    "classes = extract_divisions(classes)\n",
    "classes = refine_section_extraction(classes)\n",
    "classes = process_sections_with_no_title_key(classes)\n",
    "classes = transform_title_values(classes)\n",
    "write_data_to_json_file(classes, 'thesaurus.json')\n"
   ],
   "metadata": {
    "collapsed": false,
    "ExecuteTime": {
     "end_time": "2024-02-11T12:03:10.450968Z",
     "start_time": "2024-02-11T12:03:10.441456Z"
    }
   },
   "id": "343d5aa641a5f3d9",
   "execution_count": 338
  }
 ],
 "metadata": {
  "kernelspec": {
   "display_name": "Python 3",
   "language": "python",
   "name": "python3"
  },
  "language_info": {
   "codemirror_mode": {
    "name": "ipython",
    "version": 2
   },
   "file_extension": ".py",
   "mimetype": "text/x-python",
   "name": "python",
   "nbconvert_exporter": "python",
   "pygments_lexer": "ipython2",
   "version": "2.7.6"
  }
 },
 "nbformat": 4,
 "nbformat_minor": 5
}
